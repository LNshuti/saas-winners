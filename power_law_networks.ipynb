{
  "nbformat": 4,
  "nbformat_minor": 0,
  "metadata": {
    "colab": {
      "provenance": [],
      "authorship_tag": "ABX9TyN058r7BKiGKLU/xMFBI8xK",
      "include_colab_link": true
    },
    "kernelspec": {
      "name": "python3",
      "display_name": "Python 3"
    },
    "language_info": {
      "name": "python"
    }
  },
  "cells": [
    {
      "cell_type": "markdown",
      "metadata": {
        "id": "view-in-github",
        "colab_type": "text"
      },
      "source": [
        "<a href=\"https://colab.research.google.com/github/LNshuti/saas-winners/blob/main/power_law_networks.ipynb\" target=\"_parent\"><img src=\"https://colab.research.google.com/assets/colab-badge.svg\" alt=\"Open In Colab\"/></a>"
      ]
    },
    {
      "cell_type": "markdown",
      "source": [
        "Large social networks are characterized by a few well-known phenomena:\n",
        "\n",
        "1. **Power-Law Degree Distributions**: Many real-world social networks exhibit a **heavy-tailed** degree distribution \\( P(k) \\sim k^{-\\alpha} \\). Some networks have a “two-regime” structure, with different exponents for low-degree vs. high-degree nodes (Csányi & Szendrői, 2003).\n",
        "2. **Short Characteristic Path Length** and **High Clustering**: Social networks often exhibit **small-world** properties, with relatively **short average path lengths** between nodes and **high clustering coefficients** (Corten, 2012).\n",
        "3. **Distinct Components**: In online social networks, three main regions often emerge (Kumar et al., 2006):\n",
        "   - Singletons (isolated nodes)\n",
        "   - Isolated communities (often star-like structures)\n",
        "   - A giant component, containing a well-connected core\n",
        "4. **Mixed Node Types**: The composition of a social network might be modeled as a mix of:\n",
        "   - **Passive members** (rarely invite or respond)\n",
        "   - **Inviters** (who frequently send invitations)\n",
        "   - **Active participants** (who both invite and respond)\n",
        "5. **Random Graphs and Epidemic Modeling**: Some large-scale social networks resemble random graphs with power-law distributions (Eubank et al., 2004). This similarity has implications for studying epidemic spread, viral marketing, and other phenomena.\n",
        "\n",
        "---\n",
        "\n",
        "In this **tutorial**, we :\n",
        "- Generate **synthetic social network data** in Python using **NetworkX**.\n",
        "- Demonstrate how to **fit** and **visualize** power-law degree distributions.\n",
        "- **Compute** short path lengths, clustering coefficients, and examine other metrics.\n",
        "- Identify distinct components and subgraphs.\n",
        "- Illustrate how random graphs compare to social networks from a structural perspective.\n",
        "\n",
        "---\n",
        "We will need the following libraries:\n",
        "\n",
        "- **NetworkX** for graph construction and analysis\n",
        "- **NumPy** and **pandas** for data manipulation\n",
        "- **matplotlib** (and possibly **seaborn**) for visualizations\n",
        "- **scipy** for statistical fitting and analysis\n"
      ],
      "metadata": {
        "id": "auWHN2xDS3bo"
      }
    },
    {
      "cell_type": "code",
      "source": [
        "import numpy as np\n",
        "import pandas as pd\n",
        "import networkx as nx\n",
        "import matplotlib.pyplot as plt\n",
        "import random\n",
        "\n",
        "%matplotlib inline\n",
        "\n",
        "print(\"Libraries imported successfully!\")"
      ],
      "metadata": {
        "colab": {
          "base_uri": "https://localhost:8080/"
        },
        "id": "t5YJMeN1SyEL",
        "outputId": "d2986abf-7378-4737-b377-b6818ae56e10"
      },
      "execution_count": 2,
      "outputs": [
        {
          "output_type": "stream",
          "name": "stdout",
          "text": [
            "Libraries imported successfully!\n"
          ]
        }
      ]
    },
    {
      "cell_type": "markdown",
      "source": [
        "## **Generating Synthetic Network Data (Overview)**\n",
        "\n",
        "We generate a **synthetic social network** that exhibits a power-law–like degree distribution with two scaling regimes. One typical approach is to use:\n",
        "1. A **Barabási–Albert** (BA) model to generate a scale-free network with one regime.\n",
        "2. Then, artificially **“merge”** it with a second smaller scale-free or star-like cluster that has its own degree behavior.\n",
        "\n",
        "Additionally, we will add:\n",
        "- **Singletons**: some fraction of nodes that are completely isolated.\n",
        "- **Small star communities**: to mimic isolated groups, each with a small highly connected “hub.”\n",
        "- A **giant component**: that emerges from a larger BA network.\n",
        "\n",
        "### **Step-by-Step Reasoning**  \n",
        "1. **Decide on the size of the network**: We’ll aim for ~5,000 nodes total.  \n",
        "2. **Create a giant component** using a BA model with ~4,000 nodes.  \n",
        "3. **Sprinkle** ~500 singleton nodes.  \n",
        "4. **Add** ~10 small star subgraphs each of size ~ 30–40.  \n",
        "5. **Combine** all these subgraphs into one composite “synthetic social network.”\n"
      ],
      "metadata": {
        "id": "W2s8gc-5ZIOX"
      }
    },
    {
      "cell_type": "code",
      "source": [
        "# Parameters\n",
        "N = 5000              # total number of nodes desired\n",
        "N_giant = 4000        # nodes in the giant component\n",
        "N_singletons = 500    # number of isolated nodes (singletons)\n",
        "num_stars = 10        # number of small star communities\n",
        "star_size = 30        # size of each star community\n",
        "\n",
        "# 1. Create a giant component with Barabási-Albert model\n",
        "m = 2  # number of edges to attach from a new node to existing nodes\n",
        "G_giant = nx.barabasi_albert_graph(n=N_giant, m=m, seed=42)\n",
        "\n",
        "# 2. Create singletons\n",
        "singleton_nodes = range(N_giant, N_giant + N_singletons)\n",
        "G_singletons = nx.Graph()\n",
        "G_singletons.add_nodes_from(singleton_nodes)\n",
        "\n",
        "# 3. Create star communities\n",
        "# We'll create multiple star subgraphs and then merge them\n",
        "G_stars = nx.Graph()\n",
        "current_node_label = N_giant + N_singletons\n",
        "for i in range(num_stars):\n",
        "    center_node = current_node_label\n",
        "    G_stars.add_node(center_node)\n",
        "    # Add star_size - 1 leaf nodes\n",
        "    for j in range(star_size - 1):\n",
        "        leaf_node = current_node_label + j + 1\n",
        "        G_stars.add_node(leaf_node)\n",
        "        G_stars.add_edge(center_node, leaf_node)\n",
        "    # Advance the current_node_label\n",
        "    current_node_label += star_size\n",
        "\n",
        "# 4. Combine all into a single graph\n",
        "G = nx.disjoint_union_all([G_giant, G_singletons, G_stars])\n",
        "\n",
        "print(\"Number of components:\", nx.number_connected_components(G))\n",
        "print(\"Total nodes:\", G.number_of_nodes())\n",
        "print(\"Total edges:\", G.number_of_edges())"
      ],
      "metadata": {
        "colab": {
          "base_uri": "https://localhost:8080/"
        },
        "id": "0qtvFWkqSyGc",
        "outputId": "d918ef4d-a56e-4c48-dd50-6dbb7de79b7a"
      },
      "execution_count": 3,
      "outputs": [
        {
          "output_type": "stream",
          "name": "stdout",
          "text": [
            "Number of components: 511\n",
            "Total nodes: 4800\n",
            "Total edges: 8286\n"
          ]
        }
      ]
    },
    {
      "cell_type": "code",
      "source": [
        "degrees = [deg for _, deg in G.degree()]\n",
        "max_degree = max(degrees)\n",
        "\n",
        "print(\"Max degree:\", max_degree)\n",
        "print(\"Average degree:\", np.mean(degrees))\n",
        "\n",
        "# Plot histogram of degrees\n",
        "plt.figure(figsize=(8,5))\n",
        "plt.hist(degrees, bins=range(0, max_degree+1), color='skyblue', alpha=0.7)\n",
        "plt.yscale('log')\n",
        "plt.xlabel(\"Degree\")\n",
        "plt.ylabel(\"Count (log scale)\")\n",
        "plt.title(\"Degree Distribution of Synthetic Network\")\n",
        "plt.show()"
      ],
      "metadata": {
        "colab": {
          "base_uri": "https://localhost:8080/",
          "height": 522
        },
        "id": "E8rUjjcvSyJD",
        "outputId": "c5bb9b05-e201-4e51-ea93-b4cdd89f4bc6"
      },
      "execution_count": 4,
      "outputs": [
        {
          "output_type": "stream",
          "name": "stdout",
          "text": [
            "Max degree: 172\n",
            "Average degree: 3.4525\n"
          ]
        },
        {
          "output_type": "display_data",
          "data": {
            "text/plain": [
              "<Figure size 800x500 with 1 Axes>"
            ],
            "image/png": "[encoded data removed]"
          },
          "metadata": {}
        }
      ]
    },
    {
      "cell_type": "markdown",
      "source": [
        "## **Generating Synthetic Data (Implementation)**\n",
        "\n",
        "- We used **`nx.barabasi_albert_graph(...)`** to create a scale-free subgraph as the “giant component.”\n",
        "- **Singletons** are just nodes with no edges.\n",
        "- **Star communities** each have one central hub and several leaves attached to it.\n",
        "- We use **`nx.disjoint_union_all([...])`** to combine these into a single “synthetic social network.”\n",
        "\n",
        "We should have ~5000 nodes, partitioned into the giant component, singletons, and multiple star communities.\n",
        "\n",
        "---\n",
        "\n",
        "## **Basic Analysis (Degree Distribution & Visualization)**\n",
        "\n",
        "Next, let’s look at some basic statistics:\n",
        "\n",
        "- Degree distribution\n",
        "- Simple visualization (although with 5,000 nodes, a direct plot may be messy)\n",
        "\n",
        "\n",
        "- We **log-scale** the y-axis to highlight the heavy-tail nature.\n",
        "- Notice that you’ll see a significant chunk at **degree=0** (the singletons) and possibly a second bump from the star clusters.\n",
        "- The giant component’s BA-like structure should lead to a heavy tail on higher degrees.\n",
        "\n",
        "---\n",
        "\n",
        "## **Checking for Power-Law Fit**\n",
        "\n",
        "To see if we have a power-law tail, we can:\n",
        "1. Ignore the zero-degree nodes.\n",
        "2. Ignore the extremely high-degree outliers (if desired).\n",
        "3. Attempt to fit a power law to the remaining degrees.\n",
        "\n",
        "We’ll do a simple approach using **numpy**. (For more advanced fits, consider the `powerlaw` package.)\n",
        "\n",
        "- The slope on the **log-log** plot is related to the power-law exponent \\( \\alpha \\) by \\(\\text{slope} \\approx -\\alpha\\).\n",
        "- We expect an exponent typically in the range \\([2, 3]\\) for social networks, but our two-regime approach might complicate a single power-law fit.\n",
        "\n",
        "---\n",
        "\n",
        "## **Small-World Properties (Path Length, Clustering)**\n",
        "\n",
        "Large social networks often exhibit **short characteristic path lengths** and **high clustering coefficients**. Let’s measure:\n",
        "\n",
        "- **Average shortest path length** (on the giant component only, because singletons are disconnected).\n",
        "- **Average clustering coefficient** (again focusing on the giant component).\n",
        "\n",
        "\n",
        "- The **`max(nx.connected_components(G), key=len)`** approach picks the largest connected set of nodes.\n",
        "- We can only compute shortest path length on a connected subgraph.\n",
        "- Typical “small-world” networks might have an average path length on the order of \\(\\log(N)\\) or smaller.\n",
        "- Social networks often also have an above-random clustering coefficient.\n",
        "\n",
        "---\n",
        "\n",
        "## **Identifying Key Regions in the Network**\n",
        "\n",
        "Based on **Kumar et al. (2006)**, online social networks may have:\n",
        "1. **Singletons**\n",
        "2. **Isolated star-like communities**\n",
        "3. **Giant component** with a core\n",
        "\n",
        "Let’s see how many components we have and identify them by size. We already see singletons are in their own component. We can also see the star subgraphs. We’ll label components by size:\n",
        "\n",
        "\n",
        "- The largest component should correspond to our BA-based “giant” subgraph of size \\(\\sim 4000\\).\n",
        "- There should be **500** singleton components total (if none were accidentally merged).\n",
        "- The next largest components (size = 30) should correspond to our star communities.\n"
      ],
      "metadata": {
        "id": "5Ve23RwZbjyg"
      }
    },
    {
      "cell_type": "code",
      "source": [
        "# Filter out degree=0 nodes\n",
        "nonzero_degrees = [d for d in degrees if d > 0]\n",
        "\n",
        "# Simple log-log approach\n",
        "counts, bin_edges = np.histogram(nonzero_degrees, bins=50)\n",
        "bin_centers = 0.5 * (bin_edges[:-1] + bin_edges[1:])\n",
        "\n",
        "nonzero_mask = (counts > 0)\n",
        "bin_centers = bin_centers[nonzero_mask]\n",
        "counts = counts[nonzero_mask]\n",
        "\n",
        "log_bin_centers = np.log(bin_centers)\n",
        "log_counts = np.log(counts)\n",
        "\n",
        "# Linear fit on log-log scale\n",
        "slope, intercept = np.polyfit(log_bin_centers, log_counts, 1)\n",
        "\n",
        "print(\"Estimated power-law exponent (approx):\", -slope)\n",
        "\n",
        "plt.figure(figsize=(8,5))\n",
        "plt.scatter(log_bin_centers, log_counts, label='Data', alpha=0.5)\n",
        "plt.plot(log_bin_centers, intercept + slope*log_bin_centers, color='red',\n",
        "         label=f'Fit slope = {slope:.2f}')\n",
        "plt.xlabel(\"log(Degree)\")\n",
        "plt.ylabel(\"log(Count)\")\n",
        "plt.title(\"Approximate Power-Law Fit\")\n",
        "plt.legend()\n",
        "plt.show()"
      ],
      "metadata": {
        "colab": {
          "base_uri": "https://localhost:8080/",
          "height": 504
        },
        "id": "5pz5dqaTSyLZ",
        "outputId": "c8ef294d-87ac-4e1f-8932-5a3bf1a49de9"
      },
      "execution_count": 5,
      "outputs": [
        {
          "output_type": "stream",
          "name": "stdout",
          "text": [
            "Estimated power-law exponent (approx): 2.140395457683688\n"
          ]
        },
        {
          "output_type": "display_data",
          "data": {
            "text/plain": [
              "<Figure size 800x500 with 1 Axes>"
            ],
            "image/png": "[encoded data removed]"
          },
          "metadata": {}
        }
      ]
    },
    {
      "cell_type": "markdown",
      "source": [
        "\n",
        "## **Modeling Node Types (Passive, Inviters, Active Participants)**\n",
        "\n",
        "To **model different node types** (Kumar et al., 2006) in a synthetic sense, we can:\n",
        "1. **Assign** each node a role: “Passive,” “Inviter,” or “Active,” based on degree or random sampling.\n",
        "2. For instance, we can say:\n",
        "   - “Passive” nodes have degree \\( < 2\\).\n",
        "   - “Inviters” have a moderate degree (2 to 10).\n",
        "   - “Active participants” have degree \\( > 10\\).\n",
        "3. Alternatively, random assignment with different proportions could be used.\n",
        "\n",
        "Let’s do the degree-based approach for demonstration:\n",
        "\n",
        "- This is a simplistic model, but it illustrates how we can **tag** each node with a certain “behavioral” label.\n",
        "- In a real system, these labels might come from user logs or other dynamic behaviors."
      ],
      "metadata": {
        "id": "gLlxUwuNbS8q"
      }
    },
    {
      "cell_type": "code",
      "source": [
        "# Extract the giant component subgraph\n",
        "giant_components = list(nx.connected_components(G))\n",
        "giant_component_nodes = max(giant_components, key=len)\n",
        "G_giant_sub = G.subgraph(giant_component_nodes).copy()\n",
        "\n",
        "# Average shortest path length\n",
        "avg_path_length = nx.average_shortest_path_length(G_giant_sub)\n",
        "# Average clustering\n",
        "avg_clustering = nx.average_clustering(G_giant_sub)\n",
        "\n",
        "print(\"Number of nodes in giant component:\", len(G_giant_sub))\n",
        "print(\"Average shortest path length (giant component):\", avg_path_length)\n",
        "print(\"Average clustering coefficient (giant component):\", avg_clustering)\n"
      ],
      "metadata": {
        "colab": {
          "base_uri": "https://localhost:8080/"
        },
        "id": "GLOOcVS_SyOA",
        "outputId": "318619a0-4d2c-4d95-95ba-87f958249664"
      },
      "execution_count": 6,
      "outputs": [
        {
          "output_type": "stream",
          "name": "stdout",
          "text": [
            "Number of nodes in giant component: 4000\n",
            "Average shortest path length (giant component): 4.674114153538385\n",
            "Average clustering coefficient (giant component): 0.008708675530481685\n"
          ]
        }
      ]
    },
    {
      "cell_type": "code",
      "source": [
        "components = list(nx.connected_components(G))\n",
        "component_sizes = [len(c) for c in components]\n",
        "sorted_sizes = sorted(component_sizes, reverse=True)\n",
        "\n",
        "print(\"Number of components:\", len(components))\n",
        "print(\"Largest 10 component sizes:\", sorted_sizes[:10])\n",
        "\n",
        "# Identify singleton count\n",
        "singleton_count = sum([1 for size in component_sizes if size == 1])\n",
        "print(\"Number of singleton components:\", singleton_count)"
      ],
      "metadata": {
        "colab": {
          "base_uri": "https://localhost:8080/"
        },
        "id": "5XlNbvaFSyQY",
        "outputId": "7b428bb0-4305-4fec-8c82-b84e05f74766"
      },
      "execution_count": 7,
      "outputs": [
        {
          "output_type": "stream",
          "name": "stdout",
          "text": [
            "Number of components: 511\n",
            "Largest 10 component sizes: [4000, 30, 30, 30, 30, 30, 30, 30, 30, 30]\n",
            "Number of singleton components: 500\n"
          ]
        }
      ]
    },
    {
      "cell_type": "markdown",
      "source": [
        "\n",
        "---\n",
        "\n",
        "## **Comparison with Random Graphs & Conclusion**\n",
        "\n",
        "Finally, let’s **compare** our synthetic social network to a **classical random graph** \\(G_{n,p}\\) with the same number of nodes and approximately the same average degree. Then we’ll **briefly summarize** what we learned.\n"
      ],
      "metadata": {
        "id": "U3l0-yWwbGH3"
      }
    },
    {
      "cell_type": "code",
      "source": [
        "node_types = {}\n",
        "for node in G.nodes():\n",
        "    deg = G.degree(node)\n",
        "    if deg < 2:\n",
        "        node_types[node] = \"Passive\"\n",
        "    elif deg <= 10:\n",
        "        node_types[node] = \"Inviter\"\n",
        "    else:\n",
        "        node_types[node] = \"Active\"\n",
        "\n",
        "# Quick count\n",
        "from collections import Counter\n",
        "type_counts = Counter(node_types.values())\n",
        "print(\"Type counts:\", type_counts)"
      ],
      "metadata": {
        "colab": {
          "base_uri": "https://localhost:8080/"
        },
        "id": "YK-NOBLPSyVT",
        "outputId": "62826e51-b4f0-4ec5-ca35-115bb85392ad"
      },
      "execution_count": 8,
      "outputs": [
        {
          "output_type": "stream",
          "name": "stdout",
          "text": [
            "Type counts: Counter({'Inviter': 3806, 'Passive': 790, 'Active': 204})\n"
          ]
        }
      ]
    },
    {
      "cell_type": "code",
      "source": [
        "# We know total edges in G:\n",
        "E = G.number_of_edges()\n",
        "avg_degree_est = 2.0 * E / G.number_of_nodes()\n",
        "p = avg_degree_est / (G.number_of_nodes() - 1)\n",
        "\n",
        "# Construct a random graph with same N and similar p\n",
        "N_total = G.number_of_nodes()\n",
        "G_erdos_renyi = nx.erdos_renyi_graph(N_total, p, seed=42)\n",
        "\n",
        "# Compare average shortest path lengths on their giant components\n",
        "def get_giant_subgraph(graph):\n",
        "    components = list(nx.connected_components(graph))\n",
        "    giant_nodes = max(components, key=len)\n",
        "    return graph.subgraph(giant_nodes).copy()\n",
        "\n",
        "G_giant_sub_rand = get_giant_subgraph(G_erdos_renyi)\n",
        "\n",
        "print(\"Erdős–Rényi graph giant component size:\",\n",
        "      len(G_giant_sub_rand))\n",
        "\n",
        "print(\"Erdős–Rényi average path length:\",\n",
        "      nx.average_shortest_path_length(G_giant_sub_rand))\n",
        "print(\"Erdős–Rényi average clustering:\",\n",
        "      nx.average_clustering(G_giant_sub_rand))"
      ],
      "metadata": {
        "colab": {
          "base_uri": "https://localhost:8080/"
        },
        "id": "PHXCTMw9SyX5",
        "outputId": "f3eaf411-e2ef-4b02-ec53-479711eb3801"
      },
      "execution_count": 9,
      "outputs": [
        {
          "output_type": "stream",
          "name": "stdout",
          "text": [
            "Erdős–Rényi graph giant component size: 4636\n",
            "Erdős–Rényi average path length: 7.088277194657821\n",
            "Erdős–Rényi average clustering: 0.0006138981333114206\n"
          ]
        }
      ]
    },
    {
      "cell_type": "markdown",
      "source": [
        "\n",
        "\n",
        "1. **Power-Law Distributions**: Our synthetic network shows a heavy-tailed degree distribution, with clear substructures for singletons and star communities, partially mimicking the **two-regime** phenomenon.\n",
        "2. **Short Paths & High Clustering**: The giant component exhibits features reminiscent of a small-world network.\n",
        "3. **Distinct Regions**: We can see the singletons, small star subgraphs, and a giant component, consistent with what Kumar et al. (2006) describes.\n",
        "4. **Passive / Inviter / Active**: A naive classification shows how we can label nodes by degree.\n",
        "5. **Random Graph Comparison**: The Erdős–Rényi network might have a different degree distribution (Poisson-like) and different clustering behavior. By comparing average path lengths and clustering, we see how real social networks deviate from purely random graphs.\n",
        "\n",
        "These steps provide a foundation for **analyzing large-scale social networks**. In a production system, you would:\n",
        "- Pull actual data from a data warehouse,\n",
        "- Apply distributed graph algorithms (e.g., GraphFrames or PySpark GraphX),\n",
        "- Conduct advanced power-law fits,\n",
        "- Use specialized clustering algorithms for community detection,\n",
        "- And carefully interpret the results for business applications (e.g., user engagement, churn prediction, recommendation systems).\n",
        "\n",
        "**Next Steps** :\n",
        "- Incorporating “temporal edges” or “temporal features” for dynamic analyses (e.g., how the network evolves over time).\n",
        "- Refining node-type modeling with more realistic assumptions.\n",
        "- Running **epidemic simulations** or **influence spread** experiments on the network."
      ],
      "metadata": {
        "id": "AxSdkHFha9JK"
      }
    }
  ]
}